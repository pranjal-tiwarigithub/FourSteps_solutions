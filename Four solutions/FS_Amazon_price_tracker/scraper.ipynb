{
 "cells": [
  {
   "cell_type": "code",
   "execution_count": 1,
   "metadata": {},
   "outputs": [],
   "source": [
    "import requests\n",
    "import time\n",
    "import csv\n",
    "import re\n",
    "from bs4 import BeautifulSoup"
   ]
  },
  {
   "cell_type": "code",
   "execution_count": null,
   "metadata": {},
   "outputs": [],
   "source": [
    "def scrape(source_url, soup):  # Takes the driver and the subdomain for concats as params\n",
    "    # Find the elements of the article tag\n",
    "    books = soup.find_all(\"article\", class_=\"product_pod\")\n",
    "\n",
    "    # Iterate over each book article tag\n",
    "    for each_book in books:\n",
    "        info_url = source_url+\"/\"+each_book.h3.find(\"a\")[\"href\"]\n",
    "        cover_url = source_url+\"/catalogue\" + \\\n",
    "            each_book.a.img[\"src\"].replace(\"..\", \"\")\n",
    "\n",
    "        title = each_book.h3.find(\"a\")[\"title\"]\n",
    "        rating = each_book.find(\"p\", class_=\"star-rating\")[\"class\"][1]\n",
    "        # can also be written as : each_book.h3.find(\"a\").get(\"title\")\n",
    "        price = each_book.find(\"p\", class_=\"price_color\").text.strip().encode(\n",
    "            \"ascii\", \"ignore\").decode(\"ascii\")\n",
    "        availability = each_book.find(\n",
    "            \"p\", class_=\"instock availability\").text.strip()\n",
    "\n",
    "        # Invoke the write_to_csv function\n",
    "        write_to_csv([info_url, cover_url, title, rating, price, availability])"
   ]
  }
 ],
 "metadata": {
  "kernelspec": {
   "display_name": "Python 3",
   "language": "python",
   "name": "python3"
  },
  "language_info": {
   "codemirror_mode": {
    "name": "ipython",
    "version": 3
   },
   "file_extension": ".py",
   "mimetype": "text/x-python",
   "name": "python",
   "nbconvert_exporter": "python",
   "pygments_lexer": "ipython3",
   "version": "3.8.5"
  },
  "varInspector": {
   "cols": {
    "lenName": 16,
    "lenType": 16,
    "lenVar": 40
   },
   "kernels_config": {
    "python": {
     "delete_cmd_postfix": "",
     "delete_cmd_prefix": "del ",
     "library": "var_list.py",
     "varRefreshCmd": "print(var_dic_list())"
    },
    "r": {
     "delete_cmd_postfix": ") ",
     "delete_cmd_prefix": "rm(",
     "library": "var_list.r",
     "varRefreshCmd": "cat(var_dic_list()) "
    }
   },
   "types_to_exclude": [
    "module",
    "function",
    "builtin_function_or_method",
    "instance",
    "_Feature"
   ],
   "window_display": false
  }
 },
 "nbformat": 4,
 "nbformat_minor": 4
}
