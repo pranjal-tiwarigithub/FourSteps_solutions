{
 "cells": [
  {
   "cell_type": "raw",
   "metadata": {},
   "source": [
    "https://stackabuse.com/guide-to-parsing-html-with-beautifulsoup-in-python/"
   ]
  },
  {
   "cell_type": "raw",
   "metadata": {
    "colab": {},
    "colab_type": "code",
    "id": "f5QtGfimwhf-"
   },
   "source": [
    "# install request and beautiful soup\n",
    "\n",
    "pip install requests bs4"
   ]
  },
  {
   "cell_type": "code",
   "execution_count": 2,
   "metadata": {
    "colab": {},
    "colab_type": "code",
    "id": "XVRN5wdJyNB6"
   },
   "outputs": [],
   "source": [
    "import requests\n",
    "from bs4 import BeautifulSoup\n"
   ]
  },
  {
   "cell_type": "code",
   "execution_count": 35,
   "metadata": {},
   "outputs": [],
   "source": [
    "URL = 'https://www.amazon.in/Amazon-Brand-Symbol-D-Grey-SS21-20/dp/B093DTCY4N/ref=sr_1_1_sspa?hvadid=72293003082247&hvbmt=be&hvdev=c&hvqmt=e&keywords=amazon+shoes+for+men&qid=1653910274&smid=A1WYWER0W24N8S&sr=8-1-spons&psc=1&spLa=ZW5jcnlwdGVkUXVhbGlmaWVyPUEzNkE4SUVZUllUUTNRJmVuY3J5cHRlZElkPUEwNjk3MjU3MTlYVkRDWlRXQ0dDWSZlbmNyeXB0ZWRBZElkPUEwMDI3MTIySDZTSFpVODdSUFJEJndpZGdldE5hbWU9c3BfYXRmJmFjdGlvbj1jbGlja1JlZGlyZWN0JmRvTm90TG9nQ2xpY2s9dHJ1ZQ=='\n",
    "myuseragent= 'Mozilla/5.0 (Windows NT 10.0; Win64; x64) AppleWebKit/537.36 (KHTML, like Gecko) Chrome/101.0.4951.67 Safari/537.36'\n"
   ]
  },
  {
   "cell_type": "raw",
   "metadata": {},
   "source": [
    "A user agent is a relatively short bit of text that (attempts to) describe the Software/Browser (the \"Agent\") that is making the request to a website. Web browsers include the user agent string in the requests they make to websites. The User Agent often includes descriptions of the Operating System and Device Type that the Browser/Agent is running on."
   ]
  },
  {
   "cell_type": "code",
   "execution_count": 42,
   "metadata": {},
   "outputs": [],
   "source": [
    "\n",
    "def check_price():\n",
    "  headers = {\"User-Agent\": myuseragent}\n",
    "  page = requests.get(URL, headers=headers)\n",
    "    # page has all elements of that website \n",
    "  soup = BeautifulSoup(page.content,'html.parser')\n",
    "  price = soup.find(\"span\", {\"class\": \"a-offscreen\"}).get_text().strip().replace(\",\",\"\") #['data-value']\n",
    "    # \n",
    "  #price = soup.find(class_ = '_19_Y9G _8XxizX').get_text().strip()\n",
    "  price = float(price[2:])\n",
    "  print(price)  \n",
    "  return price"
   ]
  },
  {
   "cell_type": "code",
   "execution_count": 45,
   "metadata": {},
   "outputs": [],
   "source": [
    "def check_price():\n",
    "  headers = {\"User-Agent\": myuseragent}\n",
    "  page = requests.get(URL, headers=headers)\n",
    "    # page has all elements of that website \n",
    "  soup = BeautifulSoup(page.content,'html.parser')\n",
    "  price = soup.find_all(\"span\", {\"class\": \"a-offscreen\"})[0].get_text().strip().replace(\",\",\"\") #['data-value']\n",
    "    # \n",
    "  #price = soup.find(class_ = '_19_Y9G _8XxizX').get_text().strip()\n",
    "  price = float(price[2:])\n",
    "  print(price)  \n",
    "  return price"
   ]
  },
  {
   "cell_type": "code",
   "execution_count": 46,
   "metadata": {
    "colab": {
     "base_uri": "https://localhost:8080/",
     "height": 33
    },
    "colab_type": "code",
    "id": "LXK0LcktzrJi",
    "outputId": "9ad82459-404b-4df4-dccf-9613160b37b3"
   },
   "outputs": [
    {
     "name": "stdout",
     "output_type": "stream",
     "text": [
      "999.0\n"
     ]
    },
    {
     "data": {
      "text/plain": [
       "999.0"
      ]
     },
     "execution_count": 46,
     "metadata": {},
     "output_type": "execute_result"
    }
   ],
   "source": [
    "check_price()"
   ]
  },
  {
   "cell_type": "code",
   "execution_count": 0,
   "metadata": {
    "colab": {},
    "colab_type": "code",
    "id": "_AnrA-Y12eno"
   },
   "outputs": [],
   "source": [
    "#DATETIME   PANDAS"
   ]
  }
 ],
 "metadata": {
  "colab": {
   "collapsed_sections": [],
   "name": "Amazon price tracker.ipynb",
   "provenance": []
  },
  "kernelspec": {
   "display_name": "Python 3",
   "language": "python",
   "name": "python3"
  },
  "language_info": {
   "codemirror_mode": {
    "name": "ipython",
    "version": 3
   },
   "file_extension": ".py",
   "mimetype": "text/x-python",
   "name": "python",
   "nbconvert_exporter": "python",
   "pygments_lexer": "ipython3",
   "version": "3.8.5"
  },
  "varInspector": {
   "cols": {
    "lenName": 16,
    "lenType": 16,
    "lenVar": 40
   },
   "kernels_config": {
    "python": {
     "delete_cmd_postfix": "",
     "delete_cmd_prefix": "del ",
     "library": "var_list.py",
     "varRefreshCmd": "print(var_dic_list())"
    },
    "r": {
     "delete_cmd_postfix": ") ",
     "delete_cmd_prefix": "rm(",
     "library": "var_list.r",
     "varRefreshCmd": "cat(var_dic_list()) "
    }
   },
   "types_to_exclude": [
    "module",
    "function",
    "builtin_function_or_method",
    "instance",
    "_Feature"
   ],
   "window_display": false
  }
 },
 "nbformat": 4,
 "nbformat_minor": 1
}
