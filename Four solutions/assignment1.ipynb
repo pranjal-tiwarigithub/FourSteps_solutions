{
 "cells": [
  {
   "cell_type": "code",
   "execution_count": 3,
   "metadata": {},
   "outputs": [
    {
     "name": "stdout",
     "output_type": "stream",
     "text": [
      "enter principal100\n",
      "enter rate10\n",
      "enter time1\n",
      "the interest is  10.0\n"
     ]
    }
   ],
   "source": [
    "P = int(input(\"enter principal\"))\n",
    "R = int(input(\"enter rate\"))\n",
    "T = int(input(\"enter time\"))\n",
    "\n",
    "si=(P*R*T)/100\n",
    "\n",
    "print(\"the interest is \",si)\n"
   ]
  },
  {
   "cell_type": "code",
   "execution_count": null,
   "metadata": {},
   "outputs": [],
   "source": []
  }
 ],
 "metadata": {
  "kernelspec": {
   "display_name": "Python 3",
   "language": "python",
   "name": "python3"
  },
  "language_info": {
   "codemirror_mode": {
    "name": "ipython",
    "version": 3
   },
   "file_extension": ".py",
   "mimetype": "text/x-python",
   "name": "python",
   "nbconvert_exporter": "python",
   "pygments_lexer": "ipython3",
   "version": "3.8.5"
  }
 },
 "nbformat": 4,
 "nbformat_minor": 4
}
